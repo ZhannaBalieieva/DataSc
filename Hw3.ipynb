{
 "cells": [
  {
   "cell_type": "code",
   "execution_count": 1,
   "metadata": {},
   "outputs": [
    {
     "name": "stderr",
     "output_type": "stream",
     "text": [
      "No artists with labels found to put in legend.  Note that artists whose label start with an underscore are ignored when legend() is called with no argument.\n"
     ]
    },
    {
     "name": "stdout",
     "output_type": "stream",
     "text": [
      "        price  area  bedrooms  bathrooms  stories mainroad guestroom basement  \\\n",
      "0    13300000  7420         4          2        3      yes        no       no   \n",
      "1    12250000  8960         4          4        4      yes        no       no   \n",
      "2    12250000  9960         3          2        2      yes        no      yes   \n",
      "3    12215000  7500         4          2        2      yes        no      yes   \n",
      "4    11410000  7420         4          1        2      yes       yes      yes   \n",
      "..        ...   ...       ...        ...      ...      ...       ...      ...   \n",
      "540   1820000  3000         2          1        1      yes        no      yes   \n",
      "541   1767150  2400         3          1        1       no        no       no   \n",
      "542   1750000  3620         2          1        1      yes        no       no   \n",
      "543   1750000  2910         3          1        1       no        no       no   \n",
      "544   1750000  3850         3          1        2      yes        no       no   \n",
      "\n",
      "    hotwaterheating airconditioning  parking prefarea furnishingstatus  \n",
      "0                no             yes        2      yes        furnished  \n",
      "1                no             yes        3       no        furnished  \n",
      "2                no              no        2      yes   semi-furnished  \n",
      "3                no             yes        3      yes        furnished  \n",
      "4                no             yes        2       no        furnished  \n",
      "..              ...             ...      ...      ...              ...  \n",
      "540              no              no        2       no      unfurnished  \n",
      "541              no              no        0       no   semi-furnished  \n",
      "542              no              no        0       no      unfurnished  \n",
      "543              no              no        0       no        furnished  \n",
      "544              no              no        0       no      unfurnished  \n",
      "\n",
      "[545 rows x 13 columns]\n",
      "        price\n",
      "0    13300000\n",
      "1    12250000\n",
      "2    12250000\n",
      "3    12215000\n",
      "4    11410000\n",
      "..        ...\n",
      "540   1820000\n",
      "541   1767150\n",
      "542   1750000\n",
      "543   1750000\n",
      "544   1750000\n",
      "\n",
      "[545 rows x 1 columns]\n",
      "     area  bedrooms  bathrooms\n",
      "0    7420         4          2\n",
      "1    8960         4          4\n",
      "2    9960         3          2\n",
      "3    7500         4          2\n",
      "4    7420         4          1\n",
      "..    ...       ...        ...\n",
      "540  3000         2          1\n",
      "541  2400         3          1\n",
      "542  3620         2          1\n",
      "543  2910         3          1\n",
      "544  3850         3          1\n",
      "\n",
      "[545 rows x 3 columns]\n",
      "coefficient of determination: 0.22982140133356213\n",
      "intercept: [2.18620556e+03 2.27579102e+00 6.23511020e-01]\n",
      "slope: [[6.21880449e-04]\n",
      " [1.44616267e-07]\n",
      " [1.39031918e-07]]\n",
      "[[1.04572155e+04 4.19918738e+00 2.47263553e+00]\n",
      " [9.80424106e+03 4.04734030e+00 2.32665202e+00]\n",
      " [9.80424106e+03 4.04734030e+00 2.32665202e+00]\n",
      " ...\n",
      " [3.27449635e+03 2.52886949e+00 8.66816878e-01]\n",
      " [3.27449635e+03 2.52886949e+00 8.66816878e-01]\n",
      " [3.27449635e+03 2.52886949e+00 8.66816878e-01]]\n",
      "intercept: [2.18620556e+03 2.27579102e+00 6.23511020e-01]\n",
      "slope: [[6.21880449e-04]\n",
      " [1.44616267e-07]\n",
      " [1.39031918e-07]]\n"
     ]
    },
    {
     "data": {
      "image/png": "[encoded data removed]",
      "text/plain": [
       "<Figure size 1200x800 with 1 Axes>"
      ]
     },
     "metadata": {},
     "output_type": "display_data"
    }
   ],
   "source": [
    "import pandas as pd\n",
    "import numpy as np\n",
    "import matplotlib.pyplot as plt\n",
    "from sklearn.linear_model import LinearRegression\n",
    "\n",
    "dtset_csv = pd.read_csv('Housing.csv')\n",
    "print(dtset_csv)\n",
    "dtset_csv.head()\n",
    "X = dtset_csv[['price']]\n",
    "Y = dtset_csv[['area', 'bedrooms', 'bathrooms']]\n",
    "print(X)\n",
    "print(Y)\n",
    "model = LinearRegression().fit(X, Y)\n",
    "r_sq = model.score(X, Y)\n",
    "print('coefficient of determination:', r_sq)\n",
    "print('intercept:', model.intercept_) \n",
    "print('slope:', model.coef_)  \n",
    "print(model.predict(X))\n",
    "def normalization(data):\n",
    "    mean = np.mean(data)\n",
    "    value_range = np.max(data) - np.min(data)\n",
    "    result = []\n",
    "    for x in data:\n",
    "        norm_x = (x - mean)/value_range\n",
    "        result.append(norm_x)\n",
    "    return result\n",
    "norm_df = pd.read_csv('Housing.csv')\n",
    "X = np.array([norm_df.price]).T\n",
    "Y = np.array(norm_df.area)\n",
    "reg = LinearRegression().fit(X, Y)\n",
    "reg.score(X, Y)\n",
    "print('intercept:', model.intercept_)\n",
    "print('slope:', model.coef_) \n",
    "plt.figure(figsize=(12,8))\n",
    "plt.plot(norm_df.area, norm_df.bedrooms, norm_df.bathrooms, norm_df.price, 'gx')\n",
    "x = np.linspace(-0.27, 0.8, 500)\n",
    "plt.legend()\n",
    "plt.show()\n",
    "\n"
   ]
  }
 ],
 "metadata": {
  "kernelspec": {
   "display_name": "Python 3",
   "language": "python",
   "name": "python3"
  },
  "language_info": {
   "codemirror_mode": {
    "name": "ipython",
    "version": 3
   },
   "file_extension": ".py",
   "mimetype": "text/x-python",
   "name": "python",
   "nbconvert_exporter": "python",
   "pygments_lexer": "ipython3",
   "version": "3.11.0"
  },
  "orig_nbformat": 4
 },
 "nbformat": 4,
 "nbformat_minor": 2
}
